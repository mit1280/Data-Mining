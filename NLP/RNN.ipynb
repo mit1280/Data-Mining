{
  "nbformat": 4,
  "nbformat_minor": 0,
  "metadata": {
    "colab": {
      "name": "RNN.ipynb",
      "provenance": []
    },
    "kernelspec": {
      "name": "python3",
      "display_name": "Python 3"
    },
    "language_info": {
      "name": "python"
    }
  },
  "cells": [
    {
      "cell_type": "markdown",
      "metadata": {
        "id": "K-X8FfyShv9G"
      },
      "source": [
        "# I'm loading data from Drive"
      ]
    },
    {
      "cell_type": "code",
      "metadata": {
        "colab": {
          "base_uri": "https://localhost:8080/"
        },
        "id": "OP2IOfrUVkqC",
        "outputId": "52de2554-b162-4acb-8ea6-127d1720405e"
      },
      "source": [
        "from google.colab import drive\n",
        "drive.mount('/content/drive')"
      ],
      "execution_count": null,
      "outputs": [
        {
          "output_type": "stream",
          "text": [
            "Drive already mounted at /content/drive; to attempt to forcibly remount, call drive.mount(\"/content/drive\", force_remount=True).\n"
          ],
          "name": "stdout"
        }
      ]
    },
    {
      "cell_type": "markdown",
      "metadata": {
        "id": "DAQo-sRciMMa"
      },
      "source": [
        "### Library Imported"
      ]
    },
    {
      "cell_type": "code",
      "metadata": {
        "id": "JXOw-AW3VlGu"
      },
      "source": [
        "import numpy as np\n",
        "import tensorflow_datasets as tfds\n",
        "import tensorflow as tf\n",
        "\n",
        "tfds.disable_progress_bar()"
      ],
      "execution_count": null,
      "outputs": []
    },
    {
      "cell_type": "code",
      "metadata": {
        "id": "ZMAZPTs8VnKJ"
      },
      "source": [
        "import matplotlib.pyplot as plt\n",
        "\n",
        "def plot_graphs(history, metric):\n",
        "  plt.plot(history.history[metric])\n",
        "  plt.plot(history.history['val_'+metric], '')\n",
        "  plt.xlabel(\"Epochs\")\n",
        "  plt.ylabel(metric)\n",
        "  plt.legend([metric, 'val_'+metric])"
      ],
      "execution_count": null,
      "outputs": []
    },
    {
      "cell_type": "markdown",
      "metadata": {
        "id": "4N3sIm0UiYLq"
      },
      "source": [
        "# Text and labels are stored into list"
      ]
    },
    {
      "cell_type": "code",
      "metadata": {
        "id": "LIQLEOWdVvNT"
      },
      "source": [
        "text = []\n",
        "label=[]\n",
        "import numpy\n",
        "#point to where you download the file\n",
        "read_file = \"./drive/My Drive/sls/amazon_cells_labelled.txt\"\n",
        "with open(read_file,'r', encoding='utf-8',  errors='ignore') as r:\n",
        "  c=0\n",
        "  for line in r:\n",
        "    splitted = line.strip().split('\\t')\n",
        "    msg = ('').join(splitted[:-1])\n",
        "    is_class = splitted[-1]\n",
        "    text.append( bytes(msg.lower(),'utf-8'))\n",
        "    label.append(numpy.int64(is_class))\n",
        "read_file = \"./drive/My Drive/sls/imdb_labelled.txt\"\n",
        "with open(read_file,'r', encoding='utf-8',  errors='ignore') as r:\n",
        "  c=0\n",
        "  for line in r:\n",
        "    splitted = line.strip().split('\\t')\n",
        "    msg = ('').join(splitted[:-1])\n",
        "    is_class = splitted[-1]\n",
        "    text.append( bytes(msg.lower(),'utf-8'))\n",
        "    label.append(numpy.int64(is_class))\n",
        "read_file = \"./drive/My Drive/sls/yelp_labelled.txt\"\n",
        "with open(read_file,'r', encoding='utf-8',  errors='ignore') as r:\n",
        "  c=0\n",
        "  for line in r:\n",
        "    splitted = line.strip().split('\\t')\n",
        "    msg = ('').join(splitted[:-1])\n",
        "    is_class = splitted[-1]\n",
        "    text.append( bytes(msg.lower(),'utf-8'))\n",
        "    label.append(numpy.int64(is_class))"
      ],
      "execution_count": null,
      "outputs": []
    },
    {
      "cell_type": "markdown",
      "metadata": {
        "id": "4n9u6Nf-ifhj"
      },
      "source": [
        "Converted Data into TensorSpec"
      ]
    },
    {
      "cell_type": "code",
      "metadata": {
        "id": "0PcKWARnVxtv"
      },
      "source": [
        "train_dataset = tf.data.Dataset.zip((tf.data.Dataset.from_tensor_slices(text[:2000]), tf.data.Dataset.from_tensor_slices(label[:2000])))\n",
        "test_dataset = tf.data.Dataset.zip((tf.data.Dataset.from_tensor_slices(text[2000:]), tf.data.Dataset.from_tensor_slices(label[2000:])))"
      ],
      "execution_count": null,
      "outputs": []
    },
    {
      "cell_type": "code",
      "metadata": {
        "colab": {
          "base_uri": "https://localhost:8080/"
        },
        "id": "LqjGr_xxVzf7",
        "outputId": "7f803001-61e0-4c51-99c7-8fb694854a00"
      },
      "source": [
        "for example, label in train_dataset.take(1):\n",
        "  print('text: ', example.numpy())\n",
        "  print('label: ', label.numpy())"
      ],
      "execution_count": null,
      "outputs": [
        {
          "output_type": "stream",
          "text": [
            "text:  b'so there is no way for me to plug it in here in the us unless i go by a converter.'\n",
            "label:  0\n"
          ],
          "name": "stdout"
        }
      ]
    },
    {
      "cell_type": "code",
      "metadata": {
        "id": "HBdO6xIkV25m"
      },
      "source": [
        "BUFFER_SIZE = 10000\n",
        "BATCH_SIZE = 64"
      ],
      "execution_count": null,
      "outputs": []
    },
    {
      "cell_type": "code",
      "metadata": {
        "id": "t9Ym0RnXV2-g"
      },
      "source": [
        "train_dataset = train_dataset.shuffle(BUFFER_SIZE).batch(BATCH_SIZE).prefetch(tf.data.AUTOTUNE)\n",
        "test_dataset = test_dataset.batch(BATCH_SIZE).prefetch(tf.data.AUTOTUNE)"
      ],
      "execution_count": null,
      "outputs": []
    },
    {
      "cell_type": "code",
      "metadata": {
        "colab": {
          "base_uri": "https://localhost:8080/"
        },
        "id": "3K_P-N_8V3CK",
        "outputId": "103e9501-22af-40db-c02c-c32ab7d4c685"
      },
      "source": [
        "for example, label in train_dataset.take(1):\n",
        "  print('texts: ', example.numpy()[:3])\n",
        "  print()\n",
        "  print('labels: ', label.numpy()[:3])"
      ],
      "execution_count": null,
      "outputs": [
        {
          "output_type": "stream",
          "text": [
            "texts:  [b'then i exchanged for the same phone, even that had the same problem.'\n",
            " b'i bought it for my mother and she had a problem with the battery.'\n",
            " b'excellent short film.  ']\n",
            "\n",
            "labels:  [0 0 1]\n"
          ],
          "name": "stdout"
        }
      ]
    },
    {
      "cell_type": "code",
      "metadata": {
        "id": "TdNFi8WOV3E1"
      },
      "source": [
        "VOCAB_SIZE = 1000\n",
        "encoder = tf.keras.layers.experimental.preprocessing.TextVectorization(\n",
        "    max_tokens=VOCAB_SIZE)\n",
        "encoder.adapt(train_dataset.map(lambda text, label: text))"
      ],
      "execution_count": null,
      "outputs": []
    },
    {
      "cell_type": "code",
      "metadata": {
        "colab": {
          "base_uri": "https://localhost:8080/"
        },
        "id": "uYV_iGuzV_5g",
        "outputId": "adf327a5-7554-499b-dcfa-489ae45dccb0"
      },
      "source": [
        "vocab = np.array(encoder.get_vocabulary())\n",
        "vocab[:20]"
      ],
      "execution_count": null,
      "outputs": [
        {
          "output_type": "execute_result",
          "data": {
            "text/plain": [
              "array(['', '[UNK]', 'the', 'and', 'a', 'i', 'is', 'it', 'this', 'of',\n",
              "       'to', 'in', 'was', 'that', 'for', 'with', 'not', 'my', 'movie',\n",
              "       'very'], dtype='<U14')"
            ]
          },
          "metadata": {
            "tags": []
          },
          "execution_count": 62
        }
      ]
    },
    {
      "cell_type": "code",
      "metadata": {
        "colab": {
          "base_uri": "https://localhost:8080/"
        },
        "id": "xSqdEkm-V_-f",
        "outputId": "c44feb38-b963-415c-c2db-e5e6b6d407e9"
      },
      "source": [
        "encoded_example = encoder(example)[:3].numpy()\n",
        "encoded_example"
      ],
      "execution_count": null,
      "outputs": [
        {
          "output_type": "execute_result",
          "data": {
            "text/plain": [
              "array([[136,   5,   1,  14,   2, 190,  21,  53,  13,  45,   2, 190, 235,\n",
              "          0,   0,   0,   0,   0,   0,   0,   0,   0,   0,   0,   0,   0,\n",
              "          0,   0,   0,   0,   0,   0,   0,   0,   0,   0,   0,   0,   0,\n",
              "          0,   0,   0,   0,   0,   0,   0,   0,   0,   0,   0,   0,   0,\n",
              "          0,   0,   0,   0],\n",
              "       [  5, 175,   7,  14,  17, 925,   3, 221,  45,   4, 235,  15,   2,\n",
              "         73,   0,   0,   0,   0,   0,   0,   0,   0,   0,   0,   0,   0,\n",
              "          0,   0,   0,   0,   0,   0,   0,   0,   0,   0,   0,   0,   0,\n",
              "          0,   0,   0,   0,   0,   0,   0,   0,   0,   0,   0,   0,   0,\n",
              "          0,   0,   0,   0],\n",
              "       [ 79, 273,  22,   0,   0,   0,   0,   0,   0,   0,   0,   0,   0,\n",
              "          0,   0,   0,   0,   0,   0,   0,   0,   0,   0,   0,   0,   0,\n",
              "          0,   0,   0,   0,   0,   0,   0,   0,   0,   0,   0,   0,   0,\n",
              "          0,   0,   0,   0,   0,   0,   0,   0,   0,   0,   0,   0,   0,\n",
              "          0,   0,   0,   0]])"
            ]
          },
          "metadata": {
            "tags": []
          },
          "execution_count": 63
        }
      ]
    },
    {
      "cell_type": "code",
      "metadata": {
        "colab": {
          "base_uri": "https://localhost:8080/"
        },
        "id": "B1e7-ME7WAG6",
        "outputId": "73f58653-8026-4b59-9935-5c58f0481ce0"
      },
      "source": [
        "for n in range(3):\n",
        "  print(\"Original: \", example[n].numpy())\n",
        "  print(\"Round-trip: \", \" \".join(vocab[encoded_example[n]]))\n",
        "  print()"
      ],
      "execution_count": null,
      "outputs": [
        {
          "output_type": "stream",
          "text": [
            "Original:  b'then i exchanged for the same phone, even that had the same problem.'\n",
            "Round-trip:  then i [UNK] for the same phone even that had the same problem                                           \n",
            "\n",
            "Original:  b'i bought it for my mother and she had a problem with the battery.'\n",
            "Round-trip:  i bought it for my mother and she had a problem with the battery                                          \n",
            "\n",
            "Original:  b'excellent short film.  '\n",
            "Round-trip:  excellent short film                                                     \n",
            "\n"
          ],
          "name": "stdout"
        }
      ]
    },
    {
      "cell_type": "code",
      "metadata": {
        "id": "6acN5E4OWAKc"
      },
      "source": [
        "model = tf.keras.Sequential([\n",
        "    encoder,\n",
        "    tf.keras.layers.Embedding(\n",
        "        input_dim=len(encoder.get_vocabulary()),\n",
        "        output_dim=64,\n",
        "        # Use masking to handle the variable sequence lengths\n",
        "        mask_zero=True),\n",
        "    tf.keras.layers.Bidirectional(tf.keras.layers.LSTM(64)),\n",
        "    tf.keras.layers.Dense(64, activation='relu'),\n",
        "    tf.keras.layers.Dense(1)\n",
        "])"
      ],
      "execution_count": null,
      "outputs": []
    },
    {
      "cell_type": "code",
      "metadata": {
        "colab": {
          "base_uri": "https://localhost:8080/"
        },
        "id": "LNpgq4JpWAOc",
        "outputId": "3c4668b9-2743-4726-b833-1c15e286e6d9"
      },
      "source": [
        "print([layer.supports_masking for layer in model.layers])"
      ],
      "execution_count": null,
      "outputs": [
        {
          "output_type": "stream",
          "text": [
            "[False, True, True, True, True]\n"
          ],
          "name": "stdout"
        }
      ]
    },
    {
      "cell_type": "code",
      "metadata": {
        "colab": {
          "base_uri": "https://localhost:8080/"
        },
        "id": "cXG8XNELWAS6",
        "outputId": "00b6cfac-88e7-4241-8fcb-c38175260d1e"
      },
      "source": [
        "# predict on a sample text without padding.\n",
        "\n",
        "sample_text = ('The movie was cool. The animation and the graphics '\n",
        "               'were out of this world. I would recommend this movie.')\n",
        "predictions = model.predict(np.array([sample_text]))\n",
        "print(predictions[0])"
      ],
      "execution_count": null,
      "outputs": [
        {
          "output_type": "stream",
          "text": [
            "[-7.092889e-05]\n"
          ],
          "name": "stdout"
        }
      ]
    },
    {
      "cell_type": "code",
      "metadata": {
        "colab": {
          "base_uri": "https://localhost:8080/"
        },
        "id": "3idEUJ_VWAZ-",
        "outputId": "ab90de86-ebd6-446c-d564-74552ce74330"
      },
      "source": [
        "# predict on a sample text with padding\n",
        "\n",
        "padding = \"the \" * 2000\n",
        "predictions = model.predict(np.array([sample_text, padding]))\n",
        "#Nueral network return continuous value not binary so I added last code \n",
        "if(predictions[0]>0):\n",
        "  print(1)\n",
        "else:\n",
        "  print(0)"
      ],
      "execution_count": null,
      "outputs": [
        {
          "output_type": "stream",
          "text": [
            "0\n"
          ],
          "name": "stdout"
        }
      ]
    },
    {
      "cell_type": "code",
      "metadata": {
        "id": "ly6hEGd7WAfH"
      },
      "source": [
        "model.compile(loss=tf.keras.losses.BinaryCrossentropy(from_logits=True),\n",
        "              optimizer=tf.keras.optimizers.Adam(1e-4),\n",
        "              metrics=['accuracy'])"
      ],
      "execution_count": null,
      "outputs": []
    },
    {
      "cell_type": "code",
      "metadata": {
        "colab": {
          "base_uri": "https://localhost:8080/"
        },
        "id": "wazNu4D2WAjZ",
        "outputId": "cf3526f7-0490-4c35-c73c-3f54fb8c2469"
      },
      "source": [
        "history = model.fit(train_dataset, epochs=10,\n",
        "                    validation_data=test_dataset,\n",
        "                    validation_steps=30)"
      ],
      "execution_count": null,
      "outputs": [
        {
          "output_type": "stream",
          "text": [
            "Epoch 1/10\n",
            "31/32 [============================>.] - ETA: 0s - loss: 0.6929 - accuracy: 0.5005WARNING:tensorflow:Your input ran out of data; interrupting training. Make sure that your dataset or generator can generate at least `steps_per_epoch * epochs` batches (in this case, 30 batches). You may need to use the repeat() function when building your dataset.\n",
            "32/32 [==============================] - 13s 171ms/step - loss: 0.6929 - accuracy: 0.5000 - val_loss: 0.6929 - val_accuracy: 0.5000\n",
            "Epoch 2/10\n",
            "32/32 [==============================] - 3s 82ms/step - loss: 0.6918 - accuracy: 0.5000\n",
            "Epoch 3/10\n",
            "32/32 [==============================] - 3s 88ms/step - loss: 0.6903 - accuracy: 0.5000\n",
            "Epoch 4/10\n",
            "32/32 [==============================] - 3s 85ms/step - loss: 0.6871 - accuracy: 0.5000\n",
            "Epoch 5/10\n",
            "32/32 [==============================] - 3s 86ms/step - loss: 0.6802 - accuracy: 0.5000\n",
            "Epoch 6/10\n",
            "32/32 [==============================] - 3s 85ms/step - loss: 0.6629 - accuracy: 0.5000\n",
            "Epoch 7/10\n",
            "32/32 [==============================] - 3s 88ms/step - loss: 0.6172 - accuracy: 0.5660\n",
            "Epoch 8/10\n",
            "32/32 [==============================] - 3s 88ms/step - loss: 0.5350 - accuracy: 0.7210\n",
            "Epoch 9/10\n",
            "32/32 [==============================] - 3s 86ms/step - loss: 0.4593 - accuracy: 0.8055\n",
            "Epoch 10/10\n",
            "32/32 [==============================] - 3s 85ms/step - loss: 0.4023 - accuracy: 0.8470\n"
          ],
          "name": "stdout"
        }
      ]
    },
    {
      "cell_type": "code",
      "metadata": {
        "colab": {
          "base_uri": "https://localhost:8080/"
        },
        "id": "VjDYc0apWUCE",
        "outputId": "2f9dca81-4fe0-4b57-b2ca-08243086388f"
      },
      "source": [
        "test_loss, test_acc = model.evaluate(test_dataset)\n",
        "\n",
        "print('Test Loss:', test_loss)\n",
        "print('Test Accuracy:', test_acc)"
      ],
      "execution_count": null,
      "outputs": [
        {
          "output_type": "stream",
          "text": [
            "16/16 [==============================] - 0s 15ms/step - loss: 0.5622 - accuracy: 0.7130\n",
            "Test Loss: 0.5621817708015442\n",
            "Test Accuracy: 0.7129999995231628\n"
          ],
          "name": "stdout"
        }
      ]
    },
    {
      "cell_type": "code",
      "metadata": {
        "colab": {
          "base_uri": "https://localhost:8080/",
          "height": 518
        },
        "id": "AhJnP6D1WUGM",
        "outputId": "f01494e8-4aab-44d8-e1df-869e610e5f43"
      },
      "source": [
        "plt.figure(figsize=(16, 8))\n",
        "plt.subplot(1, 2, 1)\n",
        "plot_graphs(history, 'accuracy')\n",
        "plt.ylim(None, 1)\n",
        "plt.subplot(1, 2, 2)\n",
        "plot_graphs(history, 'loss')\n",
        "plt.ylim(0, None)"
      ],
      "execution_count": null,
      "outputs": [
        {
          "output_type": "execute_result",
          "data": {
            "text/plain": [
              "(0.0, 0.7074727937579155)"
            ]
          },
          "metadata": {
            "tags": []
          },
          "execution_count": 73
        },
        {
          "output_type": "display_data",
          "data": {
            "image/png": "[encoded data removed]",
            "text/plain": [
              "<Figure size 1152x576 with 2 Axes>"
            ]
          },
          "metadata": {
            "tags": [],
            "needs_background": "light"
          }
        }
      ]
    },
    {
      "cell_type": "code",
      "metadata": {
        "id": "UShl9oO2WUMn"
      },
      "source": [
        "sample_text = ('The movie was cool. The animation and the graphics '\n",
        "               'were out of this world. I would recommend this movie.')\n",
        "predictions = model.predict(np.array([sample_text]))"
      ],
      "execution_count": null,
      "outputs": []
    },
    {
      "cell_type": "code",
      "metadata": {
        "id": "04f8DsUbWUQ0"
      },
      "source": [
        "model = tf.keras.Sequential([\n",
        "    encoder,\n",
        "    tf.keras.layers.Embedding(len(encoder.get_vocabulary()), 64, mask_zero=True),\n",
        "    tf.keras.layers.Bidirectional(tf.keras.layers.LSTM(64,  return_sequences=True)),\n",
        "    tf.keras.layers.Bidirectional(tf.keras.layers.LSTM(32)),\n",
        "    tf.keras.layers.Dense(64, activation='relu'),\n",
        "    tf.keras.layers.Dropout(0.5),\n",
        "    tf.keras.layers.Dense(1)\n",
        "])"
      ],
      "execution_count": null,
      "outputs": []
    },
    {
      "cell_type": "code",
      "metadata": {
        "id": "umNsOAPKWb8Z"
      },
      "source": [
        "model.compile(loss=tf.keras.losses.BinaryCrossentropy(from_logits=True),\n",
        "              optimizer=tf.keras.optimizers.Adam(1e-4),\n",
        "              metrics=['accuracy'])"
      ],
      "execution_count": null,
      "outputs": []
    },
    {
      "cell_type": "code",
      "metadata": {
        "colab": {
          "base_uri": "https://localhost:8080/"
        },
        "id": "3qT0COuvWcA7",
        "outputId": "4590d01a-c046-4832-b69e-cc7aee208cb7"
      },
      "source": [
        "history = model.fit(train_dataset, epochs=10,\n",
        "                    validation_data=test_dataset,\n",
        "                    validation_steps=30)"
      ],
      "execution_count": null,
      "outputs": [
        {
          "output_type": "stream",
          "text": [
            "Epoch 1/10\n",
            "32/32 [==============================] - ETA: 0s - loss: 0.6932 - accuracy: 0.5000WARNING:tensorflow:Your input ran out of data; interrupting training. Make sure that your dataset or generator can generate at least `steps_per_epoch * epochs` batches (in this case, 30 batches). You may need to use the repeat() function when building your dataset.\n",
            "32/32 [==============================] - 27s 305ms/step - loss: 0.6932 - accuracy: 0.5000 - val_loss: 0.6929 - val_accuracy: 0.5000\n",
            "Epoch 2/10\n",
            "32/32 [==============================] - 4s 138ms/step - loss: 0.6925 - accuracy: 0.5000\n",
            "Epoch 3/10\n",
            "32/32 [==============================] - 5s 146ms/step - loss: 0.6915 - accuracy: 0.5000\n",
            "Epoch 4/10\n",
            "32/32 [==============================] - 5s 143ms/step - loss: 0.6898 - accuracy: 0.5000\n",
            "Epoch 5/10\n",
            "32/32 [==============================] - 4s 140ms/step - loss: 0.6845 - accuracy: 0.5000\n",
            "Epoch 6/10\n",
            "32/32 [==============================] - 5s 145ms/step - loss: 0.6689 - accuracy: 0.5000\n",
            "Epoch 7/10\n",
            "32/32 [==============================] - 5s 144ms/step - loss: 0.6226 - accuracy: 0.5215\n",
            "Epoch 8/10\n",
            "32/32 [==============================] - 5s 143ms/step - loss: 0.5284 - accuracy: 0.6655\n",
            "Epoch 9/10\n",
            "32/32 [==============================] - 4s 139ms/step - loss: 0.4519 - accuracy: 0.7365\n",
            "Epoch 10/10\n",
            "32/32 [==============================] - 4s 138ms/step - loss: 0.3952 - accuracy: 0.7910\n"
          ],
          "name": "stdout"
        }
      ]
    },
    {
      "cell_type": "code",
      "metadata": {
        "colab": {
          "base_uri": "https://localhost:8080/"
        },
        "id": "ZIQlJ4J0WcJc",
        "outputId": "b8d54de3-64b0-444f-b3c0-eaccc7030706"
      },
      "source": [
        "test_loss, test_acc = model.evaluate(test_dataset)\n",
        "\n",
        "print('Test Loss:', test_loss)\n",
        "print('Test Accuracy:', test_acc)"
      ],
      "execution_count": null,
      "outputs": [
        {
          "output_type": "stream",
          "text": [
            "16/16 [==============================] - 0s 25ms/step - loss: 0.6122 - accuracy: 0.6570\n",
            "Test Loss: 0.6122439503669739\n",
            "Test Accuracy: 0.6570000052452087\n"
          ],
          "name": "stdout"
        }
      ]
    },
    {
      "cell_type": "code",
      "metadata": {
        "colab": {
          "base_uri": "https://localhost:8080/"
        },
        "id": "9X8VSCX_WcNg",
        "outputId": "05e5e3df-e044-47cb-ecc0-918dabfbc17c"
      },
      "source": [
        "sample_text = ('not, buy this phone.')\n",
        "predictions = model.predict(np.array([sample_text]))\n",
        "\n",
        "if(predictions[0]>0):\n",
        "  print(1)\n",
        "else:\n",
        "  print(0)"
      ],
      "execution_count": null,
      "outputs": [
        {
          "output_type": "stream",
          "text": [
            "0\n"
          ],
          "name": "stdout"
        }
      ]
    },
    {
      "cell_type": "code",
      "metadata": {
        "colab": {
          "base_uri": "https://localhost:8080/",
          "height": 388
        },
        "id": "FzFIq6U6WcRn",
        "outputId": "9a61b8b6-b860-4d16-8365-2ad5458989fd"
      },
      "source": [
        "plt.figure(figsize=(16, 6))\n",
        "plt.subplot(1, 2, 1)\n",
        "plot_graphs(history, 'accuracy')\n",
        "plt.subplot(1, 2, 2)\n",
        "plot_graphs(history, 'loss')"
      ],
      "execution_count": null,
      "outputs": [
        {
          "output_type": "display_data",
          "data": {
            "image/png": "[encoded data removed]",
            "text/plain": [
              "<Figure size 1152x432 with 2 Axes>"
            ]
          },
          "metadata": {
            "tags": [],
            "needs_background": "light"
          }
        }
      ]
    },
    {
      "cell_type": "markdown",
      "metadata": {
        "id": "AigXk0pjjNe5"
      },
      "source": [
        "#Reference:\n",
        "https://www.tensorflow.org/text/tutorials/text_classification_rnn#create_the_text_encoder\n"
      ]
    }
  ]
}